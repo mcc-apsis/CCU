{
 "cells": [
  {
   "cell_type": "code",
   "execution_count": 7,
   "metadata": {},
   "outputs": [],
   "source": [
    "# Load some libraries for reading the data from the database and plotting \n",
    "\n",
    "import django\n",
    "import sys, os\n",
    "import pandas as pd\n",
    "import matplotlib.pyplot as plt\n",
    "\n",
    "sys.path.append('/home/galm/software/django/tmv/BasicBrowser/')\n",
    "os.environ.setdefault(\"DJANGO_SETTINGS_MODULE\", \"BasicBrowser.settings\")\n",
    "django.setup()\n",
    "\n",
    "from scoping.models import *\n",
    "from tmv_app.tasks import *\n",
    "\n",
    "from django.db.models import Count, Sum\n",
    "\n",
    "p = Project.objects.get(pk=106)"
   ]
  },
  {
   "cell_type": "markdown",
   "metadata": {},
   "source": [
    "## Stopwords from queries"
   ]
  },
  {
   "cell_type": "code",
   "execution_count": 5,
   "metadata": {},
   "outputs": [
    {
     "name": "stdout",
     "output_type": "stream",
     "text": [
      "TS=(((minerali?ation OR \"mineral carbonation\") NOT (cement OR concrete OR desalination OR urea) AND (\"carbon sequestration\" OR \"carbon capture and utili?ation\" OR CCU OR \"climate change mitigation\" OR \"emissions reduction\" OR \"negative emissions\" OR ((\"carbon dioxide\" OR CO2) AND (sequestration OR capture OR removal OR re-use OR transformation OR usage)))))\n"
     ]
    }
   ],
   "source": [
    "qs = p.query_set.all()\n",
    "\n",
    "extra_words = set()\n",
    "for q in qs:\n",
    "    qwords=q.text\n",
    "    \n",
    "print(qwords)"
   ]
  },
  {
   "cell_type": "code",
   "execution_count": 11,
   "metadata": {},
   "outputs": [],
   "source": [
    "q = Query.objects.get(pk=6230)\n",
    "for method in [\"NM\",\"LD\"]:\n",
    "    for K in [10,15,20,25,30]:\n",
    "        for alpha in [0.01,0.05,0.1]:\n",
    "            if method==\"LD\":\n",
    "                alpha = alpha*10  \n",
    "            model, created = RunStats.objects.get_or_create(\n",
    "                method=method,\n",
    "                min_freq=10,\n",
    "                fancy_tokenization=True,\n",
    "                K=K,\n",
    "                alpha=alpha,\n",
    "                query=q\n",
    "            )\n",
    "            if created or model.status==0:\n",
    "                do_nmf.delay(model.pk)"
   ]
  },
  {
   "cell_type": "code",
   "execution_count": null,
   "metadata": {},
   "outputs": [],
   "source": []
  }
 ],
 "metadata": {
  "kernelspec": {
   "display_name": "tmv",
   "language": "python",
   "name": "tmv"
  },
  "language_info": {
   "codemirror_mode": {
    "name": "ipython",
    "version": 3
   },
   "file_extension": ".py",
   "mimetype": "text/x-python",
   "name": "python",
   "nbconvert_exporter": "python",
   "pygments_lexer": "ipython3",
   "version": "3.6.7"
  },
  "varInspector": {
   "cols": {
    "lenName": 16,
    "lenType": 16,
    "lenVar": 40
   },
   "kernels_config": {
    "python": {
     "delete_cmd_postfix": "",
     "delete_cmd_prefix": "del ",
     "library": "var_list.py",
     "varRefreshCmd": "print(var_dic_list())"
    },
    "r": {
     "delete_cmd_postfix": ") ",
     "delete_cmd_prefix": "rm(",
     "library": "var_list.r",
     "varRefreshCmd": "cat(var_dic_list()) "
    }
   },
   "types_to_exclude": [
    "module",
    "function",
    "builtin_function_or_method",
    "instance",
    "_Feature"
   ],
   "window_display": false
  }
 },
 "nbformat": 4,
 "nbformat_minor": 2
}
