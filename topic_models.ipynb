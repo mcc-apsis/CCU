{
 "cells": [
  {
   "cell_type": "code",
   "execution_count": 1,
   "metadata": {},
   "outputs": [],
   "source": [
    "# Load some libraries for reading the data from the database and plotting \n",
    "\n",
    "import django\n",
    "import sys, os\n",
    "import pandas as pd\n",
    "import matplotlib.pyplot as plt\n",
    "\n",
    "sys.path.append('/home/galm/software/django/tmv/BasicBrowser/')\n",
    "os.environ.setdefault(\"DJANGO_SETTINGS_MODULE\", \"BasicBrowser.settings\")\n",
    "django.setup()\n",
    "\n",
    "from scoping.models import *\n",
    "from tmv_app.tasks import *\n",
    "\n",
    "from django.db.models import Count, Sum\n",
    "\n",
    "p = Project.objects.get(pk=106)"
   ]
  },
  {
   "cell_type": "markdown",
   "metadata": {},
   "source": [
    "## Stopwords from queries"
   ]
  },
  {
   "cell_type": "code",
   "execution_count": 14,
   "metadata": {},
   "outputs": [
    {
     "name": "stdout",
     "output_type": "stream",
     "text": [
      "TS=((\"Enhanced oil recovery\" OR EOR) AND (\"carbon capture and utili?ation\" OR CCU OR \"climate change mitigation\" OR \"emissions reduction\" OR \"negative emissions\" OR (\"carbon dioxide\" OR CO2 AND (capture OR removal OR re-use OR transformation OR usage))))\n",
      "TS=(((methane OR CH4) NEAR (production OR synthesis)) AND (\"carbon capture and utili?ation\" OR CCU OR \"climate change mitigation\" OR \"emissions reduction\" OR \"negative emissions\" OR ((\"carbon dioxide\" OR CO2) AND (capture OR removal OR re-use OR transformation OR usage))))\n",
      "TS=(((minerali?ation OR \"mineral carbonation\") NOT (cement OR concrete OR desalination OR urea) AND (\"carbon sequestration\" OR \"carbon capture and utili?ation\" OR CCU OR \"climate change mitigation\" OR \"emissions reduction\" OR \"negative emissions\" OR ((\"carbon dioxide\" OR CO2) AND (sequestration OR capture OR removal OR re-use OR transformation OR usage)))))\n",
      "TS=((\"Enhanced gas recovery\" OR EGR OR \"coal bed methane\" OR CBM OR \"coal seam gas\" OR CSG) AND (\"carbon capture and utili?ation\" OR CCU OR “carbon capture and storage” OR CCS OR \"climate change mitigation\" OR \"emissions reduction\" OR \"negative emissions\" OR ((\"carbon dioxide\" OR CO2) AND (capture OR removal OR re-use OR transformation OR usage)))) \n",
      "TS=((polymer* OR plastic* OR polycarbonate* OR “polymeric carbonates”) NEAR (production OR synthesis) AND (\"carbon capture and utili?ation\" OR CCU OR „carbon capture and storage“  OR „CCS“ OR \"climate change mitigation\" OR \"emissions reduction\" OR \"negative emissions\" OR ((\"carbon dioxide\" OR \"CO2\") AND (capture OR fixation OR sequestration OR removal OR re-use OR transformation OR usage))))\n",
      "TS=((\"acetic acid\" OR CH3COOH OR acetate) NEAR (production OR synthesis) AND (\"carbon capture and utili?ation\" OR CCU OR \"climate change mitigation\" OR \"emissions reduction\" OR \"negative emissions\" OR ((\"carbon dioxide\" OR CO2) AND (capture OR fixation OR sequestration OR removal OR re-use OR transformation OR usage))))\n",
      "TS=((\"formic acid\" OR HCOOH OR formate OR formamid*) NEAR (production OR synthesis) AND (\"carbon capture and utili?ation\" OR CCU OR \"climate change mitigation\" OR \"emissions reduction\" OR \"negative emissions\" OR ((\"carbon dioxide\" OR CO2) AND (capture OR fixation OR sequestration OR removal OR re-use OR transformation OR usage))))\n",
      "TS=((syngas OR \"synthesis gas\") AND (\"carbon capture and utili?ation\" OR CCU OR \"climate change mitigation\" OR \"emissions reduction\" OR \"negative emissions\" OR ((\"carbon dioxide\" OR \"CO2\") AND (removal OR \"re-use\" OR \"transformation\" OR \"usage\"))))\n",
      "TS=(((\"carbon fiber\" OR graphene OR \"carbon nanotube\" OR fullerene) NEAR (production or synthesis)) AND (\"carbon capture and utili?ation\" OR CCU OR \"carbon capture and storage \" OR CCS OR \"climate change mitigation\" OR \"emissions reduction\" OR \"negative emissions\" OR ((\"carbon dioxide\" OR CO2) AND (capture OR removal OR re-use OR transformation OR usage)))) \n",
      "TS=(((algae* OR microalgae*) AND (fuel* OR biofuel* OR diesel OR biodiesel)) AND (\"carbon capture and utili?ation\" OR CCU OR \"carbon capture and storage\" or CCS OR \"climate change mitigation\" OR \"emissions reduction\" OR \"negative emissions\" OR ((\"carbon dioxide\" OR CO2) AND (fertili?ation OR fixation OR sequestration OR capture OR removal OR re-use OR transformation OR usage)))) \n",
      "TS=((\"Polyoxymethylene dimethyl ethers\" OR \"OME\" OR \"oxymethylene ether\") NEAR (production OR synthesis))\n",
      "TS=(desalination AND (\"carbon capture and utili?ation\" OR CCU OR “carbon capture and storage” OR “CCS” OR \"climate change mitigation\" OR \"emissions reduction\" OR \"negative emissions\" OR ((\"carbon dioxide\" OR CO2) AND (capture OR fixation OR sequestration OR removal OR re-use OR transformation OR usage))))\n",
      "TS=((urea NEAR (production OR synthesis) NOT urease ) AND (\"carbon capture and utili?ation\" OR CCU OR “carbon capture and storage” or CCS OR \"climate change mitigation\" OR \"emissions reduction\" OR \"negative emissions\" OR ((\"carbon dioxide\" OR CO2) AND (capture OR fixation OR sequestration OR removal OR re-use OR transformation OR usage))))\n",
      "TS=((\"dimethyl ether\" OR \"DME\" OR CH3OCH3) NEAR (production OR synthesis) AND (\"carbon capture and utili?ation\" OR CCU OR \"climate change mitigation\" OR \"emissions reduction\" OR \"negative emissions\" OR ((\"carbon dioxide\" OR CO2) AND (capture OR fixation OR sequestration OR removal OR re-use OR transformation OR usage))))\n",
      "TS=(((methanol OR CH3OH) NEAR (production OR synthesis)) AND (\"carbon capture and utili?ation\" OR CCU OR \"climate change mitigation\" OR \"emissions reduction\" OR \"negative emissions\" OR ((\"carbon dioxide\" OR CO2) AND (capture OR removal OR re-use OR transformation OR usage))))\n",
      "TS=(((cement OR concrete) AND ( carbonation OR \"carbon sequestration\" OR \"carbon capture and utili?ation\" OR CCU OR \"climate change mitigation\" OR \"emissions reduction\" OR \"negative emissions\" OR ((\"carbon dioxide\" OR CO2) AND (sequestration OR capture OR removal OR re-use OR transformation OR usage)))))\n",
      "\n",
      "{'bioplastics', 'carbonates', 'in', 'nanotube', 'ether', 'general', '(no', 'polyoxymethylene', 'synthetic', 'products', 'h2,', 'polymers', 'fiber', 'eor', 'and', 'coal', 'weatehring', 'seam', 'polymers,', 'recovery,', 'synthesis', 'biofuel', 'carbon', 'weathering', 'chemical', 'fullerene', '(not', 'mineralisation', 'co', 'methane', 'egr/cbm', 'ome', 'weathering)', 'not', 'ethers', '+', 'from', '...', 'ccu', 'formic', 'carbonates)', 'dme', 'bed', 'oil', 'graphene,', 'chemicals', 'different', 'of', 'acid', 'gas', 'enhanced', 'acetic', 'graphene', 'dimethyl', 'production', 'cement/concrete', 'ocean', 'dimethil', 'as', 'water', 'algae', 'other', 'desalination', 'methanol', 'c', 'fiber,', 'urea', 'recovery'}\n"
     ]
    }
   ],
   "source": [
    "qs = p.query_set.all()\n",
    "cats = p.category_set.all()\n",
    "\n",
    "extra_words = set()\n",
    "for c in cats:\n",
    "    for w in c.description.split():\n",
    "        extra_words = extra_words | set([w.lower()])\n",
    "    for w in c.name.split():\n",
    "        extra_words = extra_words | set([w.lower()])\n",
    "    for q in c.query_set.all():\n",
    "        print(q.text)\n",
    "    \n",
    "print(extra_words)"
   ]
  },
  {
   "cell_type": "code",
   "execution_count": 15,
   "metadata": {},
   "outputs": [
    {
     "data": {
      "text/plain": [
       "\"with stopwords {'bioplastics', 'carbonates', 'in', 'nanotube', 'ether', 'general', '(no', 'polyoxymethylene', 'synthetic', 'products', 'h2,', 'polymers', 'fiber', 'eor', 'and', 'coal', 'weatehring', 'seam', 'polymers,', 'recovery,', 'synthesis', 'biofuel', 'carbon', 'weathering', 'chemical', 'fullerene', '(not', 'mineralisation', 'co', 'methane', 'egr/cbm', 'ome', 'weathering)', 'not', 'ethers', '+', 'from', '...', 'ccu', 'formic', 'carbonates)', 'dme', 'bed', 'oil', 'graphene,', 'chemicals', 'different', 'of', 'acid', 'gas', 'enhanced', 'acetic', 'graphene', 'dimethyl', 'production', 'cement/concrete', 'ocean', 'dimethil', 'as', 'water', 'algae', 'other', 'desalination', 'methanol', 'c', 'fiber,', 'urea', 'recovery'}\""
      ]
     },
     "execution_count": 15,
     "metadata": {},
     "output_type": "execute_result"
    }
   ],
   "source": [
    "f\"with stopwords {extra_words}\""
   ]
  },
  {
   "cell_type": "code",
   "execution_count": 17,
   "metadata": {},
   "outputs": [],
   "source": [
    "q = Query.objects.get(pk=6230)\n",
    "for method in [\"NM\",\"LD\"]:\n",
    "    for K in [10,15,20,25,30]:\n",
    "        for alpha in [0.01,0.05,0.1]:\n",
    "            if method==\"LD\":\n",
    "                alpha = alpha*10  \n",
    "            model, created = RunStats.objects.get_or_create(\n",
    "                method=method,\n",
    "                min_freq=10,\n",
    "                fancy_tokenization=True,\n",
    "                K=K,\n",
    "                alpha=alpha,\n",
    "                query=q,\n",
    "                extra_stopwords=list(extra_words),\n",
    "                notes = f\"with stopwords {extra_words}\"\n",
    "            )\n",
    "            if created or model.status==0:\n",
    "                do_nmf.delay(model.pk)"
   ]
  },
  {
   "cell_type": "code",
   "execution_count": null,
   "metadata": {},
   "outputs": [],
   "source": []
  }
 ],
 "metadata": {
  "kernelspec": {
   "display_name": "tmv",
   "language": "python",
   "name": "tmv"
  },
  "language_info": {
   "codemirror_mode": {
    "name": "ipython",
    "version": 3
   },
   "file_extension": ".py",
   "mimetype": "text/x-python",
   "name": "python",
   "nbconvert_exporter": "python",
   "pygments_lexer": "ipython3",
   "version": "3.6.7"
  },
  "varInspector": {
   "cols": {
    "lenName": 16,
    "lenType": 16,
    "lenVar": 40
   },
   "kernels_config": {
    "python": {
     "delete_cmd_postfix": "",
     "delete_cmd_prefix": "del ",
     "library": "var_list.py",
     "varRefreshCmd": "print(var_dic_list())"
    },
    "r": {
     "delete_cmd_postfix": ") ",
     "delete_cmd_prefix": "rm(",
     "library": "var_list.r",
     "varRefreshCmd": "cat(var_dic_list()) "
    }
   },
   "types_to_exclude": [
    "module",
    "function",
    "builtin_function_or_method",
    "instance",
    "_Feature"
   ],
   "window_display": false
  }
 },
 "nbformat": 4,
 "nbformat_minor": 2
}
